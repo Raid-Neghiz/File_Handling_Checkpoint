{
 "cells": [
  {
   "cell_type": "code",
   "execution_count": 3,
   "metadata": {},
   "outputs": [
    {
     "name": "stdout",
     "output_type": "stream",
     "text": [
      "the loan amount is not found or not a number\n",
      "the loan amount is not found or not a number\n",
      "the loan amount is not found or not a number\n",
      "the loan amount is not found or not a number\n",
      "the loan amount is not found or not a number\n",
      "the loan amount is not found or not a number\n",
      "the loan amount is not found or not a number\n",
      "the loan amount is not found or not a number\n",
      "the loan amount is not found or not a number\n",
      "the loan amount is not found or not a number\n",
      "the loan amount is not found or not a number\n",
      "the loan amount is not found or not a number\n",
      "the loan amount is not found or not a number\n",
      "the loan amount is not found or not a number\n",
      "the loan amount is not found or not a number\n",
      "the loan amount is not found or not a number\n",
      "the loan amount is not found or not a number\n",
      "the loan amount is not found or not a number\n",
      "the loan amount is not found or not a number\n",
      "the loan amount is not found or not a number\n",
      "the loan amount is not found or not a number\n",
      "the loan amount is not found or not a number\n",
      "Mean loan amount: 146.41216216216216\n",
      "Median loan amount: 128.0\n",
      "Standard deviation of loan amount: 85.51500809120331\n"
     ]
    }
   ],
   "source": [
    "import numpy as np\n",
    "\n",
    "\n",
    "with open('loan_prediction_dataset.csv', mode = 'r') as f:\n",
    "  next(f)\n",
    "  loan_amounts = []\n",
    "  for line in f:\n",
    "    row = line.strip().split(',')\n",
    "    try:\n",
    "      loan_amounts.append(float(row[8])) #LoanAmount is in the 8th column\n",
    "    except (IndexError, ValueError):\n",
    "      print(\"the loan amount is not found or not a number\")\n",
    "      pass\n",
    "\n",
    "if loan_amounts:\n",
    "  loan_amounts_array = np.array(loan_amounts)\n",
    "\n",
    "  mean_loan = np.mean(loan_amounts_array)\n",
    "  median_loan = np.median(loan_amounts_array)\n",
    "  std_loan = np.std(loan_amounts_array)\n",
    "\n",
    "  print(f\"Mean loan amount: {mean_loan}\")\n",
    "  print(f\"Median loan amount: {median_loan}\")\n",
    "  print(f\"Standard deviation of loan amount: {std_loan}\")\n",
    "else:\n",
    "  print(\"No valid loan amount data found in the file.\")"
   ]
  },
  {
   "cell_type": "code",
   "execution_count": null,
   "metadata": {},
   "outputs": [],
   "source": []
  },
  {
   "cell_type": "code",
   "execution_count": null,
   "metadata": {},
   "outputs": [],
   "source": []
  }
 ],
 "metadata": {
  "kernelspec": {
   "display_name": "Python 3",
   "language": "python",
   "name": "python3"
  },
  "language_info": {
   "codemirror_mode": {
    "name": "ipython",
    "version": 3
   },
   "file_extension": ".py",
   "mimetype": "text/x-python",
   "name": "python",
   "nbconvert_exporter": "python",
   "pygments_lexer": "ipython3",
   "version": "3.12.6"
  }
 },
 "nbformat": 4,
 "nbformat_minor": 2
}
